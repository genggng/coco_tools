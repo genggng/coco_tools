{
 "cells": [
  {
   "cell_type": "code",
   "execution_count": 2,
   "metadata": {},
   "outputs": [
    {
     "name": "stdout",
     "output_type": "stream",
     "text": [
      " 100% |█████████████████| 548/548 [3.0m elapsed, 0s remaining, 2.5 samples/s]      \n"
     ]
    }
   ],
   "source": [
    "import fiftyone as fo\n",
    "import fiftyone.zoo as foz\n",
    "\n",
    "visdrone_dataset = fo.Dataset.from_dir(\n",
    "    dataset_type=fo.types.COCODetectionDataset,\n",
    "    data_path=\"/home/wsg/dataset/visdrone-2019/val/images\",\n",
    "    labels_path=\"/home/wsg/dataset/visdrone-2019/val/annotations/glsan_val.json\",\n",
    "    include_id=True,\n",
    "    # max_sample=25,\n",
    ")\n"
   ]
  },
  {
   "cell_type": "code",
   "execution_count": 5,
   "metadata": {},
   "outputs": [
    {
     "data": {
      "text/plain": [
       "['0',\n",
       " 'pedestrian',\n",
       " 'people',\n",
       " 'bicycle',\n",
       " 'car',\n",
       " 'van',\n",
       " 'truck',\n",
       " 'tricycle',\n",
       " 'awning-tricycle',\n",
       " 'bus',\n",
       " 'motor']"
      ]
     },
     "execution_count": 5,
     "metadata": {},
     "output_type": "execute_result"
    }
   ],
   "source": [
    "classes = visdrone_dataset.default_classes\n",
    "classes"
   ]
  },
  {
   "cell_type": "code",
   "execution_count": 8,
   "metadata": {},
   "outputs": [],
   "source": [
    "import mmcv\n",
    "import fiftyone.utils.coco as fouc\n",
    "# 添加输出到dataset\n",
    "\n",
    "\n",
    "# 加载模型输出\n",
    "glsan_result_new = mmcv.load(\"/home/wsg/sod/glsan/train_log/1108_cascade_rcnn_res50_visdrone/inference/coco_instances_results.json\")\n",
    "\"\"\"\n",
    "主要图片id要从第一张编码\n",
    "\"\"\"\n",
    "classes = visdrone_dataset.default_classes\n",
    "fouc.add_coco_labels(visdrone_dataset, \"glsan_pred_new\", glsan_result_new, classes)\n",
    "\n",
    "\n",
    "\n"
   ]
  },
  {
   "cell_type": "code",
   "execution_count": 9,
   "metadata": {},
   "outputs": [
    {
     "name": "stdout",
     "output_type": "stream",
     "text": [
      "Session launched. Run `session.show()` to open the App in a cell output.\n"
     ]
    },
    {
     "data": {
      "application/javascript": "window.open('http://localhost:5151/');",
      "text/plain": [
       "<IPython.core.display.Javascript object>"
      ]
     },
     "metadata": {},
     "output_type": "display_data"
    },
    {
     "data": {
      "text/html": [
       "\n",
       "        <iframe\n",
       "            width=\"100%\"\n",
       "            height=\"800\"\n",
       "            src=\"http://localhost:5151/?context=ipython&subscription=73b4bcad-e8a7-4ee0-a620-312994108420\"\n",
       "            frameborder=\"0\"\n",
       "            allowfullscreen\n",
       "            \n",
       "        ></iframe>\n",
       "        "
      ],
      "text/plain": [
       "<IPython.lib.display.IFrame at 0x7fd92147bee0>"
      ]
     },
     "metadata": {},
     "output_type": "display_data"
    }
   ],
   "source": [
    "session = fo.launch_app(visdrone_dataset, auto=False)\n",
    "# session.view = eval_patches\n",
    "session.open_tab()\n",
    "session.show()"
   ]
  },
  {
   "cell_type": "code",
   "execution_count": null,
   "metadata": {},
   "outputs": [],
   "source": []
  }
 ],
 "metadata": {
  "kernelspec": {
   "display_name": "Python 3.9.12 ('base')",
   "language": "python",
   "name": "python3"
  },
  "language_info": {
   "codemirror_mode": {
    "name": "ipython",
    "version": 3
   },
   "file_extension": ".py",
   "mimetype": "text/x-python",
   "name": "python",
   "nbconvert_exporter": "python",
   "pygments_lexer": "ipython3",
   "version": "3.9.12"
  },
  "orig_nbformat": 4,
  "vscode": {
   "interpreter": {
    "hash": "c3763f1018a1d6ed7dc7efa4246d4bc9c20e50f74c8d67c4cdaf5279617c3297"
   }
  }
 },
 "nbformat": 4,
 "nbformat_minor": 2
}
